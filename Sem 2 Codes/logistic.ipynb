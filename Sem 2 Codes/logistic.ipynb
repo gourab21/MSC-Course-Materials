{
 "cells": [
  {
   "cell_type": "code",
   "execution_count": 1,
   "id": "c23bf7e3-dd99-4f1c-aade-df60287347ff",
   "metadata": {},
   "outputs": [
    {
     "name": "stderr",
     "output_type": "stream",
     "text": [
      "C:\\Users\\user\\AppData\\Local\\Temp\\ipykernel_1140\\3930834007.py:20: RuntimeWarning: divide by zero encountered in log\n",
      "  return (-1 / m) * np.sum(y * np.log(h) + (1 - y) * np.log(1 - h))\n",
      "C:\\Users\\user\\AppData\\Local\\Temp\\ipykernel_1140\\3930834007.py:20: RuntimeWarning: invalid value encountered in multiply\n",
      "  return (-1 / m) * np.sum(y * np.log(h) + (1 - y) * np.log(1 - h))\n"
     ]
    },
    {
     "data": {
      "image/png": "[encoded data removed]",
      "text/plain": [
       "<Figure size 640x480 with 1 Axes>"
      ]
     },
     "metadata": {},
     "output_type": "display_data"
    },
    {
     "name": "stdout",
     "output_type": "stream",
     "text": [
      "Prediction for 8.0 hours (Custom): [ True]\n",
      "Prediction for 8.0 hours (Sklearn): [1]\n"
     ]
    }
   ],
   "source": [
    "import numpy as np\n",
    "import pandas as pd\n",
    "import matplotlib.pyplot as plt\n",
    "from sklearn.linear_model import LogisticRegression\n",
    "from scipy.optimize import minimize\n",
    "\n",
    "# Load dataset\n",
    "data = pd.read_csv(\"logistic.csv\")\n",
    "X = data[\"hours\"].values.reshape(-1, 1)\n",
    "y = data[\"result\"].values\n",
    "\n",
    "# Sigmoid function\n",
    "def sigmoid(z):\n",
    "    return 1 / (1 + np.exp(-z))\n",
    "\n",
    "# Cost function\n",
    "def cost_function(theta, X, y):\n",
    "    m = len(y)\n",
    "    h = sigmoid(X @ theta)\n",
    "    return (-1 / m) * np.sum(y * np.log(h) + (1 - y) * np.log(1 - h))\n",
    "\n",
    "# Gradient function\n",
    "def gradient(theta, X, y):\n",
    "    m = len(y)\n",
    "    h = sigmoid(X @ theta)\n",
    "    return (1 / m) * X.T @ (h - y)\n",
    "\n",
    "# Adding bias term\n",
    "X_bias = np.c_[np.ones((X.shape[0], 1)), X]\n",
    "initial_theta = np.zeros(X_bias.shape[1])\n",
    "\n",
    "# Optimize parameters\n",
    "result = minimize(fun=cost_function, x0=initial_theta, args=(X_bias, y), jac=gradient, method='TNC')\n",
    "optimal_theta = result.x\n",
    "\n",
    "# Predict function\n",
    "def predict(X, theta):\n",
    "    return sigmoid(X @ theta) >= 0.5\n",
    "\n",
    "# Predictions using self-defined function\n",
    "predictions_custom = predict(X_bias, optimal_theta)\n",
    "\n",
    "# Logistic Regression using sklearn\n",
    "model = LogisticRegression()\n",
    "model.fit(X, y)\n",
    "predictions_sklearn = model.predict(X)\n",
    "\n",
    "# Plot the data and decision boundary\n",
    "plt.scatter(X, y, color='red', label='Data')\n",
    "x_values = np.linspace(min(X), max(X), 100)\n",
    "y_values = sigmoid(optimal_theta[0] + optimal_theta[1] * x_values)\n",
    "plt.plot(x_values, y_values, label='Custom Logistic Regression', color='blue')\n",
    "plt.xlabel(\"Hours\")\n",
    "plt.ylabel(\"Result\")\n",
    "plt.legend()\n",
    "plt.show()\n",
    "\n",
    "# Function to predict new values\n",
    "def predict_new_value(hours):\n",
    "    hours_array = np.array([[1, hours]])  # Adding bias term\n",
    "    custom_prediction = predict(hours_array, optimal_theta)\n",
    "    sklearn_prediction = model.predict([[hours]])\n",
    "    return custom_prediction, sklearn_prediction\n",
    "\n",
    "# Example of predicting a new value\n",
    "new_hours = float(input(\"ENter Value to predict - \"))\n",
    "custom_pred, sklearn_pred = predict_new_value(new_hours)\n",
    "print(f\"Prediction for {new_hours} hours (Custom):\", custom_pred)\n",
    "print(f\"Prediction for {new_hours} hours (Sklearn):\", sklearn_pred)\n"
   ]
  },
  {
   "cell_type": "code",
   "execution_count": null,
   "id": "0b44f8e5-9f79-4691-b091-22217fce7066",
   "metadata": {},
   "outputs": [],
   "source": []
  }
 ],
 "metadata": {
  "kernelspec": {
   "display_name": "Python 3",
   "language": "python",
   "name": "python3"
  },
  "language_info": {
   "codemirror_mode": {
    "name": "ipython",
    "version": 3
   },
   "file_extension": ".py",
   "mimetype": "text/x-python",
   "name": "python",
   "nbconvert_exporter": "python",
   "pygments_lexer": "ipython3",
   "version": "3.9.13"
  }
 },
 "nbformat": 4,
 "nbformat_minor": 5
}
